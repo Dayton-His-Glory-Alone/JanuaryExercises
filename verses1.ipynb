{
 "metadata": {
  "language_info": {
   "codemirror_mode": {
    "name": "ipython",
    "version": 3
   },
   "file_extension": ".py",
   "mimetype": "text/x-python",
   "name": "python",
   "nbconvert_exporter": "python",
   "pygments_lexer": "ipython3",
   "version": "3.8.3-final"
  },
  "orig_nbformat": 2,
  "kernelspec": {
   "name": "python3",
   "display_name": "Python 3",
   "language": "python"
  }
 },
 "nbformat": 4,
 "nbformat_minor": 2,
 "cells": [
  {
   "cell_type": "code",
   "execution_count": 5,
   "metadata": {},
   "outputs": [
    {
     "output_type": "error",
     "ename": "SyntaxError",
     "evalue": "invalid syntax (<ipython-input-5-79c5bda7fa6c>, line 13)",
     "traceback": [
      "\u001b[0;36m  File \u001b[0;32m\"<ipython-input-5-79c5bda7fa6c>\"\u001b[0;36m, line \u001b[0;32m13\u001b[0m\n\u001b[0;31m    key= i[0].lower():\u001b[0m\n\u001b[0m                     ^\u001b[0m\n\u001b[0;31mSyntaxError\u001b[0m\u001b[0;31m:\u001b[0m invalid syntax\n"
     ]
    }
   ],
   "source": [
    "verse= \"Have mercy on me, O God, according to your steadfast love; according to your abundant mercy blot out my transgressions. Wash me thoroughly from my iniquity, and cleanse me from my sin! For I know my transgressions, and my sin is ever before me. Against you, you only, have I sinned and done what is evil in your sight, so that you may be justified in your words and blameless in your judgment. Behold, I was brought forth in iniquity, and in sin did my mother conceive me. Behold, you delight in truth in the inward being, and you teach me wisdom in the secret heart. Purge me with hyssop, and I shall be clean; wash me, and I shall be whiter than snow. Let me hear joy and gladness; let the bones that you have broken rejoice. Hide your face from my sins, and blot out all my iniquities. Create in me a clean heart, O God, and renew a right spirit within me. Cast me not away from your presence, and take not your Holy Spirit from me. Restore to me the joy of your salvation, and uphold me with a willing spirit. Then I will teach transgressors your ways, and sinners will return to you. Deliver me from bloodguiltiness, O God, O God of my salvation, and my tongue will sing aloud of your righteousness. O Lord, open my lips, and my mouth will declare your praise. For you will not delight in sacrifice, or I would give it; you will not be pleased with a burnt offering. The sacrifices of God are a broken spirit; a broken and contrite heart, O God, you will not despise. Do good to Zion in your good pleasure; build up the walls of Jerusalem; then will you delight in right sacrifices, in burnt offerings and whole burnt offerings; then bulls will be offered on your altar.\"\n",
    "split = verse.split(\" \")\n",
    "check= [s.replace(',.-;', '') for s in split]\n",
    "print(\"Psalm 51\")\n",
    "x=0\n",
    "score=0\n",
    "hint=0\n",
    "for i in check:\n",
    "    key=''\n",
    "    while key.lower()!=i[0].lower():\n",
    "        key=input()\n",
    "        if hint==3\n",
    "            key= i[0].lower():\n",
    "        if key.lower()== i[0].lower():\n",
    "            print(split[x],end= \" \")\n",
    "            x+=1\n",
    "            score+=10\n",
    "        else:\n",
    "            if score>0:\n",
    "                score-=2\n",
    "            print(\"try again\")"
   ]
  },
  {
   "cell_type": "code",
   "execution_count": null,
   "metadata": {},
   "outputs": [],
   "source": []
  }
 ]
}